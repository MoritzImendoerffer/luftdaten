{
 "cells": [
  {
   "cell_type": "code",
   "execution_count": 5,
   "id": "5c51d6a5-aa04-4d43-b1e5-5a0e253013fe",
   "metadata": {},
   "outputs": [
    {
     "name": "stdout",
     "output_type": "stream",
     "text": [
      "Error: Backend 'bokeh' does not exist\n",
      "For help with hv.util.output call help(hv.util.output)\n"
     ]
    }
   ],
   "source": [
    "import numpy as np\n",
    "import pandas as pd\n",
    "import os\n",
    "import holoviews as hv\n",
    "import geoviews as gv\n",
    "from holoviews import opts\n",
    "from holoviews.operation.datashader import datashade\n",
    "\n",
    "hv.output(backend='bokeh')"
   ]
  },
  {
   "cell_type": "markdown",
   "id": "0a361f3e-46f7-4333-83e3-417e7e8f730b",
   "metadata": {},
   "source": [
    "# Aim\n",
    "\n",
    "- Playing around with the data.\n",
    "- Plotting timeseries on a map\n",
    "\n",
    "Following the cencus data\n",
    "\n",
    "https://examples.pyviz.org/census/census.html"
   ]
  },
  {
   "cell_type": "code",
   "execution_count": 2,
   "id": "8dfa5be9-5b30-43ab-81af-4ff98d2fe231",
   "metadata": {},
   "outputs": [],
   "source": [
    "DATAPATH = '../data/archive.sensor.community/csv_per_month'"
   ]
  },
  {
   "cell_type": "code",
   "execution_count": 6,
   "id": "a81ed8c0-a0e9-47fa-8e88-2a7cd91a0be7",
   "metadata": {},
   "outputs": [],
   "source": [
    "date = \"2022-11\"\n",
    "#sensor = \"sds011\"\n",
    "sensor = \"pms7003\"\n",
    "file_name = date + '_' + sensor + '.parquet'\n",
    "#file_name = date + '_' + sensor + '.csv'\n",
    "\n",
    "file_path = os.path.join(DATAPATH, date, file_name)\n",
    "#df = dt.fread(file_path, columns=['sensor_id', 'lat', 'lon'])\n",
    "df = pd.read_parquet(file_path)\n",
    "df['timestamp'] = pd.to_datetime(df['timestamp'])"
   ]
  },
  {
   "cell_type": "code",
   "execution_count": 60,
   "id": "c7ff5c65-e71a-40d1-bf82-2558524486c6",
   "metadata": {},
   "outputs": [
    {
     "data": {
      "text/html": [
       "<div>\n",
       "<style scoped>\n",
       "    .dataframe tbody tr th:only-of-type {\n",
       "        vertical-align: middle;\n",
       "    }\n",
       "\n",
       "    .dataframe tbody tr th {\n",
       "        vertical-align: top;\n",
       "    }\n",
       "\n",
       "    .dataframe thead th {\n",
       "        text-align: right;\n",
       "    }\n",
       "</style>\n",
       "<table border=\"1\" class=\"dataframe\">\n",
       "  <thead>\n",
       "    <tr style=\"text-align: right;\">\n",
       "      <th></th>\n",
       "      <th>sensor_id</th>\n",
       "      <th>sensor_type</th>\n",
       "      <th>location</th>\n",
       "      <th>lat</th>\n",
       "      <th>lon</th>\n",
       "      <th>timestamp</th>\n",
       "      <th>P1</th>\n",
       "      <th>P2</th>\n",
       "      <th>P0</th>\n",
       "    </tr>\n",
       "  </thead>\n",
       "  <tbody>\n",
       "    <tr>\n",
       "      <th>0</th>\n",
       "      <td>57623</td>\n",
       "      <td>PMS7003</td>\n",
       "      <td>43448</td>\n",
       "      <td>52.264000</td>\n",
       "      <td>20.644000</td>\n",
       "      <td>2022-11-01 00:00:00</td>\n",
       "      <td>26.0</td>\n",
       "      <td>19.0</td>\n",
       "      <td>NaN</td>\n",
       "    </tr>\n",
       "    <tr>\n",
       "      <th>1</th>\n",
       "      <td>68392</td>\n",
       "      <td>PMS7003</td>\n",
       "      <td>55346</td>\n",
       "      <td>52.267641</td>\n",
       "      <td>21.178672</td>\n",
       "      <td>2022-11-01 00:00:00</td>\n",
       "      <td>32.0</td>\n",
       "      <td>27.0</td>\n",
       "      <td>NaN</td>\n",
       "    </tr>\n",
       "    <tr>\n",
       "      <th>2</th>\n",
       "      <td>36469</td>\n",
       "      <td>PMS7003</td>\n",
       "      <td>22487</td>\n",
       "      <td>52.773264</td>\n",
       "      <td>16.953939</td>\n",
       "      <td>2022-11-01 00:00:01</td>\n",
       "      <td>0.0</td>\n",
       "      <td>0.0</td>\n",
       "      <td>0.0</td>\n",
       "    </tr>\n",
       "    <tr>\n",
       "      <th>3</th>\n",
       "      <td>62586</td>\n",
       "      <td>PMS7003</td>\n",
       "      <td>48645</td>\n",
       "      <td>48.916339</td>\n",
       "      <td>2.243655</td>\n",
       "      <td>2022-11-01 00:00:01</td>\n",
       "      <td>1.5</td>\n",
       "      <td>0.0</td>\n",
       "      <td>0.0</td>\n",
       "    </tr>\n",
       "    <tr>\n",
       "      <th>4</th>\n",
       "      <td>57273</td>\n",
       "      <td>PMS7003</td>\n",
       "      <td>43121</td>\n",
       "      <td>52.264400</td>\n",
       "      <td>20.643095</td>\n",
       "      <td>2022-11-01 00:00:01</td>\n",
       "      <td>27.0</td>\n",
       "      <td>24.0</td>\n",
       "      <td>NaN</td>\n",
       "    </tr>\n",
       "  </tbody>\n",
       "</table>\n",
       "</div>"
      ],
      "text/plain": [
       "   sensor_id sensor_type  location        lat        lon           timestamp  \\\n",
       "0      57623     PMS7003     43448  52.264000  20.644000 2022-11-01 00:00:00   \n",
       "1      68392     PMS7003     55346  52.267641  21.178672 2022-11-01 00:00:00   \n",
       "2      36469     PMS7003     22487  52.773264  16.953939 2022-11-01 00:00:01   \n",
       "3      62586     PMS7003     48645  48.916339   2.243655 2022-11-01 00:00:01   \n",
       "4      57273     PMS7003     43121  52.264400  20.643095 2022-11-01 00:00:01   \n",
       "\n",
       "     P1    P2   P0  \n",
       "0  26.0  19.0  NaN  \n",
       "1  32.0  27.0  NaN  \n",
       "2   0.0   0.0  0.0  \n",
       "3   1.5   0.0  0.0  \n",
       "4  27.0  24.0  NaN  "
      ]
     },
     "execution_count": 60,
     "metadata": {},
     "output_type": "execute_result"
    }
   ],
   "source": [
    "df.head()"
   ]
  },
  {
   "cell_type": "code",
   "execution_count": 75,
   "id": "5b7cc8fa-7cf5-40f6-b9ac-5b358cb5137a",
   "metadata": {},
   "outputs": [],
   "source": [
    "dataset = gv.Dataset(df.groupby(\"sensor_id\").first(), vdims=['P0', 'P1', 'P2'], kdims=['lat', 'lon', 'timestamp'])"
   ]
  },
  {
   "cell_type": "code",
   "execution_count": 76,
   "id": "f779f913-b696-4fbd-a605-ba5b3c9567fb",
   "metadata": {},
   "outputs": [
    {
     "ename": "NotImplementedError",
     "evalue": "Feature currently does not support getitem",
     "output_type": "error",
     "traceback": [
      "\u001b[0;31m---------------------------------------------------------------------------\u001b[0m",
      "\u001b[0;31mNotImplementedError\u001b[0m                       Traceback (most recent call last)",
      "\u001b[0;32m<ipython-input-76-d79e6be0dd5e>\u001b[0m in \u001b[0;36m<module>\u001b[0;34m\u001b[0m\n\u001b[1;32m      1\u001b[0m \u001b[0mgeo_dims\u001b[0m \u001b[0;34m=\u001b[0m \u001b[0;34m[\u001b[0m\u001b[0;34m'lon'\u001b[0m\u001b[0;34m,\u001b[0m \u001b[0;34m'lat'\u001b[0m\u001b[0;34m]\u001b[0m\u001b[0;34m\u001b[0m\u001b[0;34m\u001b[0m\u001b[0m\n\u001b[0;32m----> 2\u001b[0;31m \u001b[0;34m(\u001b[0m\u001b[0mdataset\u001b[0m\u001b[0;34m.\u001b[0m\u001b[0mto\u001b[0m\u001b[0;34m(\u001b[0m\u001b[0mgv\u001b[0m\u001b[0;34m.\u001b[0m\u001b[0mPoints\u001b[0m\u001b[0;34m,\u001b[0m \u001b[0mgeo_dims\u001b[0m\u001b[0;34m)\u001b[0m \u001b[0;34m*\u001b[0m \u001b[0mgf\u001b[0m\u001b[0;34m.\u001b[0m\u001b[0mcoastline\u001b[0m\u001b[0;34m)\u001b[0m\u001b[0;34m[\u001b[0m\u001b[0;34m:\u001b[0m\u001b[0;34m:\u001b[0m\u001b[0;36m5\u001b[0m\u001b[0;34m,\u001b[0m \u001b[0;34m:\u001b[0m\u001b[0;34m:\u001b[0m\u001b[0;36m5\u001b[0m\u001b[0;34m]\u001b[0m\u001b[0;34m\u001b[0m\u001b[0;34m\u001b[0m\u001b[0m\n\u001b[0m",
      "\u001b[0;32m~/miniconda3/envs/calc/lib/python3.6/site-packages/holoviews/core/ndmapping.py\u001b[0m in \u001b[0;36m__getitem__\u001b[0;34m(self, indexslice)\u001b[0m\n\u001b[1;32m    671\u001b[0m             \u001b[0msliced_items\u001b[0m \u001b[0;34m=\u001b[0m \u001b[0;34m[\u001b[0m\u001b[0;34m]\u001b[0m\u001b[0;34m\u001b[0m\u001b[0;34m\u001b[0m\u001b[0m\n\u001b[1;32m    672\u001b[0m             \u001b[0;32mfor\u001b[0m \u001b[0mk\u001b[0m\u001b[0;34m,\u001b[0m \u001b[0mv\u001b[0m \u001b[0;32min\u001b[0m \u001b[0mitems\u001b[0m\u001b[0;34m:\u001b[0m\u001b[0;34m\u001b[0m\u001b[0;34m\u001b[0m\u001b[0m\n\u001b[0;32m--> 673\u001b[0;31m                 \u001b[0mval_slice\u001b[0m \u001b[0;34m=\u001b[0m \u001b[0mself\u001b[0m\u001b[0;34m.\u001b[0m\u001b[0m_dataslice\u001b[0m\u001b[0;34m(\u001b[0m\u001b[0mv\u001b[0m\u001b[0;34m,\u001b[0m \u001b[0mdata_slice\u001b[0m\u001b[0;34m)\u001b[0m\u001b[0;34m\u001b[0m\u001b[0;34m\u001b[0m\u001b[0m\n\u001b[0m\u001b[1;32m    674\u001b[0m                 \u001b[0;32mif\u001b[0m \u001b[0mval_slice\u001b[0m \u001b[0;32mor\u001b[0m \u001b[0misinstance\u001b[0m\u001b[0;34m(\u001b[0m\u001b[0mval_slice\u001b[0m\u001b[0;34m,\u001b[0m \u001b[0mtuple\u001b[0m\u001b[0;34m)\u001b[0m\u001b[0;34m:\u001b[0m\u001b[0;34m\u001b[0m\u001b[0;34m\u001b[0m\u001b[0m\n\u001b[1;32m    675\u001b[0m                     \u001b[0msliced_items\u001b[0m\u001b[0;34m.\u001b[0m\u001b[0mappend\u001b[0m\u001b[0;34m(\u001b[0m\u001b[0;34m(\u001b[0m\u001b[0mk\u001b[0m\u001b[0;34m,\u001b[0m \u001b[0mval_slice\u001b[0m\u001b[0;34m)\u001b[0m\u001b[0;34m)\u001b[0m\u001b[0;34m\u001b[0m\u001b[0;34m\u001b[0m\u001b[0m\n",
      "\u001b[0;32m~/miniconda3/envs/calc/lib/python3.6/site-packages/holoviews/core/ndmapping.py\u001b[0m in \u001b[0;36m_dataslice\u001b[0;34m(self, data, indices)\u001b[0m\n\u001b[1;32m    238\u001b[0m         \"\"\"\n\u001b[1;32m    239\u001b[0m         \u001b[0;32mif\u001b[0m \u001b[0mself\u001b[0m\u001b[0;34m.\u001b[0m\u001b[0m_deep_indexable\u001b[0m \u001b[0;32mand\u001b[0m \u001b[0misinstance\u001b[0m\u001b[0;34m(\u001b[0m\u001b[0mdata\u001b[0m\u001b[0;34m,\u001b[0m \u001b[0mDimensioned\u001b[0m\u001b[0;34m)\u001b[0m \u001b[0;32mand\u001b[0m \u001b[0mindices\u001b[0m\u001b[0;34m:\u001b[0m\u001b[0;34m\u001b[0m\u001b[0;34m\u001b[0m\u001b[0m\n\u001b[0;32m--> 240\u001b[0;31m             \u001b[0;32mreturn\u001b[0m \u001b[0mdata\u001b[0m\u001b[0;34m[\u001b[0m\u001b[0mindices\u001b[0m\u001b[0;34m]\u001b[0m\u001b[0;34m\u001b[0m\u001b[0;34m\u001b[0m\u001b[0m\n\u001b[0m\u001b[1;32m    241\u001b[0m         \u001b[0;32melif\u001b[0m \u001b[0mlen\u001b[0m\u001b[0;34m(\u001b[0m\u001b[0mindices\u001b[0m\u001b[0;34m)\u001b[0m \u001b[0;34m>\u001b[0m \u001b[0;36m0\u001b[0m\u001b[0;34m:\u001b[0m\u001b[0;34m\u001b[0m\u001b[0;34m\u001b[0m\u001b[0m\n\u001b[1;32m    242\u001b[0m             self.param.warning('Cannot index into data element, extra data'\n",
      "\u001b[0;32m~/miniconda3/envs/calc/lib/python3.6/site-packages/holoviews/core/overlay.py\u001b[0m in \u001b[0;36m__getitem__\u001b[0;34m(self, key)\u001b[0m\n\u001b[1;32m    157\u001b[0m         \u001b[0mto\u001b[0m \u001b[0mselect\u001b[0m \u001b[0mspecific\u001b[0m \u001b[0mlayers\u001b[0m \u001b[0;32min\u001b[0m \u001b[0man\u001b[0m \u001b[0mOverlay\u001b[0m \u001b[0muse\u001b[0m \u001b[0mthe\u001b[0m \u001b[0;34m.\u001b[0m\u001b[0mget\u001b[0m \u001b[0mmethod\u001b[0m\u001b[0;34m.\u001b[0m\u001b[0;34m\u001b[0m\u001b[0;34m\u001b[0m\u001b[0m\n\u001b[1;32m    158\u001b[0m         \"\"\"\n\u001b[0;32m--> 159\u001b[0;31m         \u001b[0;32mreturn\u001b[0m \u001b[0mOverlay\u001b[0m\u001b[0;34m(\u001b[0m\u001b[0;34m[\u001b[0m\u001b[0;34m(\u001b[0m\u001b[0mk\u001b[0m\u001b[0;34m,\u001b[0m \u001b[0mv\u001b[0m\u001b[0;34m[\u001b[0m\u001b[0mkey\u001b[0m\u001b[0;34m]\u001b[0m\u001b[0;34m)\u001b[0m \u001b[0;32mfor\u001b[0m \u001b[0mk\u001b[0m\u001b[0;34m,\u001b[0m \u001b[0mv\u001b[0m \u001b[0;32min\u001b[0m \u001b[0mself\u001b[0m\u001b[0;34m.\u001b[0m\u001b[0mitems\u001b[0m\u001b[0;34m(\u001b[0m\u001b[0;34m)\u001b[0m\u001b[0;34m]\u001b[0m\u001b[0;34m)\u001b[0m\u001b[0;34m\u001b[0m\u001b[0;34m\u001b[0m\u001b[0m\n\u001b[0m\u001b[1;32m    160\u001b[0m \u001b[0;34m\u001b[0m\u001b[0m\n\u001b[1;32m    161\u001b[0m \u001b[0;34m\u001b[0m\u001b[0m\n",
      "\u001b[0;32m~/miniconda3/envs/calc/lib/python3.6/site-packages/holoviews/core/overlay.py\u001b[0m in \u001b[0;36m<listcomp>\u001b[0;34m(.0)\u001b[0m\n\u001b[1;32m    157\u001b[0m         \u001b[0mto\u001b[0m \u001b[0mselect\u001b[0m \u001b[0mspecific\u001b[0m \u001b[0mlayers\u001b[0m \u001b[0;32min\u001b[0m \u001b[0man\u001b[0m \u001b[0mOverlay\u001b[0m \u001b[0muse\u001b[0m \u001b[0mthe\u001b[0m \u001b[0;34m.\u001b[0m\u001b[0mget\u001b[0m \u001b[0mmethod\u001b[0m\u001b[0;34m.\u001b[0m\u001b[0;34m\u001b[0m\u001b[0;34m\u001b[0m\u001b[0m\n\u001b[1;32m    158\u001b[0m         \"\"\"\n\u001b[0;32m--> 159\u001b[0;31m         \u001b[0;32mreturn\u001b[0m \u001b[0mOverlay\u001b[0m\u001b[0;34m(\u001b[0m\u001b[0;34m[\u001b[0m\u001b[0;34m(\u001b[0m\u001b[0mk\u001b[0m\u001b[0;34m,\u001b[0m \u001b[0mv\u001b[0m\u001b[0;34m[\u001b[0m\u001b[0mkey\u001b[0m\u001b[0;34m]\u001b[0m\u001b[0;34m)\u001b[0m \u001b[0;32mfor\u001b[0m \u001b[0mk\u001b[0m\u001b[0;34m,\u001b[0m \u001b[0mv\u001b[0m \u001b[0;32min\u001b[0m \u001b[0mself\u001b[0m\u001b[0;34m.\u001b[0m\u001b[0mitems\u001b[0m\u001b[0;34m(\u001b[0m\u001b[0;34m)\u001b[0m\u001b[0;34m]\u001b[0m\u001b[0;34m)\u001b[0m\u001b[0;34m\u001b[0m\u001b[0;34m\u001b[0m\u001b[0m\n\u001b[0m\u001b[1;32m    160\u001b[0m \u001b[0;34m\u001b[0m\u001b[0m\n\u001b[1;32m    161\u001b[0m \u001b[0;34m\u001b[0m\u001b[0m\n",
      "\u001b[0;32m~/miniconda3/envs/calc/lib/python3.6/site-packages/holoviews/core/element.py\u001b[0m in \u001b[0;36m__getitem__\u001b[0;34m(self, key)\u001b[0m\n\u001b[1;32m     76\u001b[0m         \u001b[0;32melse\u001b[0m\u001b[0;34m:\u001b[0m\u001b[0;34m\u001b[0m\u001b[0;34m\u001b[0m\u001b[0m\n\u001b[1;32m     77\u001b[0m             raise NotImplementedError(\"%s currently does not support getitem\" %\n\u001b[0;32m---> 78\u001b[0;31m                                       type(self).__name__)\n\u001b[0m\u001b[1;32m     79\u001b[0m \u001b[0;34m\u001b[0m\u001b[0m\n\u001b[1;32m     80\u001b[0m     \u001b[0;32mdef\u001b[0m \u001b[0m__nonzero__\u001b[0m\u001b[0;34m(\u001b[0m\u001b[0mself\u001b[0m\u001b[0;34m)\u001b[0m\u001b[0;34m:\u001b[0m\u001b[0;34m\u001b[0m\u001b[0;34m\u001b[0m\u001b[0m\n",
      "\u001b[0;31mNotImplementedError\u001b[0m: Feature currently does not support getitem"
     ]
    }
   ],
   "source": [
    "geo_dims = ['lon', 'lat']\n",
    "(dataset.to(gv.Points, geo_dims) * gf.coastline)[::5, ::5]"
   ]
  },
  {
   "cell_type": "code",
   "execution_count": null,
   "id": "ffd3ffe8-67a3-461c-97ff-b3cc4c49c131",
   "metadata": {},
   "outputs": [],
   "source": []
  }
 ],
 "metadata": {
  "kernelspec": {
   "display_name": "Python 3",
   "language": "python",
   "name": "python3"
  },
  "language_info": {
   "codemirror_mode": {
    "name": "ipython",
    "version": 3
   },
   "file_extension": ".py",
   "mimetype": "text/x-python",
   "name": "python",
   "nbconvert_exporter": "python",
   "pygments_lexer": "ipython3",
   "version": "3.6.11"
  }
 },
 "nbformat": 4,
 "nbformat_minor": 5
}
