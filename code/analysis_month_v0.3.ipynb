{
 "cells": [
  {
   "cell_type": "code",
   "execution_count": 39,
   "id": "5c51d6a5-aa04-4d43-b1e5-5a0e253013fe",
   "metadata": {},
   "outputs": [],
   "source": [
    "import numpy as np\n",
    "import pandas as pd\n",
    "import os\n",
    "import holoviews as hv\n",
    "import hvplot.pandas\n",
    "import hvplot\n",
    "import geoviews as gv\n",
    "from holoviews import opts\n",
    "from holoviews.operation.datashader import datashade\n",
    "from holoviews.streams import RangeXY, Pipe\n",
    "from pyproj import CRS, Transformer\n",
    "\n",
    "\n",
    "import dask as dd\n",
    "\n",
    "import requests\n",
    "import threading\n",
    "import time\n",
    "from threading import Event\n",
    "\n",
    "hv.output(backend='bokeh')"
   ]
  },
  {
   "cell_type": "markdown",
   "id": "0a361f3e-46f7-4333-83e3-417e7e8f730b",
   "metadata": {},
   "source": [
    "# Aim\n",
    "\n",
    "- Plot the data for unique sensors (unique sensors already available)\n",
    "\n",
    "Following the cencus data\n",
    "\n",
    "https://examples.pyviz.org/census/census.html"
   ]
  },
  {
   "cell_type": "code",
   "execution_count": 38,
   "id": "a81ed8c0-a0e9-47fa-8e88-2a7cd91a0be7",
   "metadata": {},
   "outputs": [],
   "source": [
    "DATAPATH = '../data/archive.sensor.community/csv_per_month'\n",
    "\n",
    "date = \"2022-12\"\n",
    "sensor = \"sds011\"\n",
    "\n",
    "cfile_name = sensor + '_unique.csv'\n",
    "cfile_name_all = date + '_' + sensor + '.csv'\n",
    "\n",
    "cfile_path = os.path.join(DATAPATH, date, cfile_name)\n",
    "cfile_path_all = os.path.join(DATAPATH, date, cfile_name_all)\n",
    "\n",
    "dtypes = dict(P1='object', P2='object')\n",
    "\n",
    "df = pd.read_csv(cfile_path)\n",
    "#df['timestamp'] = dd.to_datetime(df['timestamp'])"
   ]
  },
  {
   "cell_type": "code",
   "execution_count": 37,
   "id": "8771d068-f044-4ec9-a8b4-8aa4822d6905",
   "metadata": {},
   "outputs": [
    {
     "data": {
      "text/html": [
       "<div>\n",
       "<style scoped>\n",
       "    .dataframe tbody tr th:only-of-type {\n",
       "        vertical-align: middle;\n",
       "    }\n",
       "\n",
       "    .dataframe tbody tr th {\n",
       "        vertical-align: top;\n",
       "    }\n",
       "\n",
       "    .dataframe thead th {\n",
       "        text-align: right;\n",
       "    }\n",
       "</style>\n",
       "<table border=\"1\" class=\"dataframe\">\n",
       "  <thead>\n",
       "    <tr style=\"text-align: right;\">\n",
       "      <th></th>\n",
       "      <th>Unnamed: 0</th>\n",
       "      <th>sensor_id</th>\n",
       "      <th>lat</th>\n",
       "      <th>lon</th>\n",
       "    </tr>\n",
       "  </thead>\n",
       "  <tbody>\n",
       "    <tr>\n",
       "      <th>0</th>\n",
       "      <td>0</td>\n",
       "      <td>30527</td>\n",
       "      <td>42.777134</td>\n",
       "      <td>23.147150</td>\n",
       "    </tr>\n",
       "    <tr>\n",
       "      <th>1</th>\n",
       "      <td>1</td>\n",
       "      <td>64777</td>\n",
       "      <td>42.485529</td>\n",
       "      <td>23.407186</td>\n",
       "    </tr>\n",
       "    <tr>\n",
       "      <th>2</th>\n",
       "      <td>2</td>\n",
       "      <td>21671</td>\n",
       "      <td>52.242000</td>\n",
       "      <td>8.168000</td>\n",
       "    </tr>\n",
       "    <tr>\n",
       "      <th>3</th>\n",
       "      <td>3</td>\n",
       "      <td>11642</td>\n",
       "      <td>50.930000</td>\n",
       "      <td>6.918000</td>\n",
       "    </tr>\n",
       "    <tr>\n",
       "      <th>4</th>\n",
       "      <td>4</td>\n",
       "      <td>61391</td>\n",
       "      <td>52.892000</td>\n",
       "      <td>5.738000</td>\n",
       "    </tr>\n",
       "  </tbody>\n",
       "</table>\n",
       "</div>"
      ],
      "text/plain": [
       "   Unnamed: 0  sensor_id        lat        lon\n",
       "0           0      30527  42.777134  23.147150\n",
       "1           1      64777  42.485529  23.407186\n",
       "2           2      21671  52.242000   8.168000\n",
       "3           3      11642  50.930000   6.918000\n",
       "4           4      61391  52.892000   5.738000"
      ]
     },
     "execution_count": 37,
     "metadata": {},
     "output_type": "execute_result"
    }
   ],
   "source": [
    "df.head()"
   ]
  },
  {
   "cell_type": "code",
   "execution_count": null,
   "id": "e56b443b-5299-4593-b0e3-18a771bcd430",
   "metadata": {},
   "outputs": [],
   "source": [
    "ddf = dd."
   ]
  },
  {
   "cell_type": "code",
   "execution_count": 4,
   "id": "31badde9-287c-4504-b9fb-394d6b6884a3",
   "metadata": {},
   "outputs": [],
   "source": [
    "class DataLoader(threading.Thread):\n",
    "    \"\"\"\n",
    "    Fetches aggregated 5 minutes data from data.sensor.community. Sends data to holoviews pipe if supplied.\n",
    "    \"\"\"\n",
    "    def __init__(self, wait=5, hv_pipe=None):\n",
    "        super().__init__()\n",
    "        self.wait = 5\n",
    "        self.exit = Event()\n",
    "        self.data = None\n",
    "        self.url = \"https://data.sensor.community/static/v2/data.dust.min.json\"\n",
    "        self.hv_pipe = hv_pipe\n",
    "        \n",
    "    def run(self):\n",
    "        while not self.exit.is_set():\n",
    "            data = requests.get(self.url)\n",
    "            self.data = self.parse_json(data.json())\n",
    "            if self.hv_pipe:\n",
    "                self.hv_pipe.send(self.data)\n",
    "            self.exit.wait(60*self.wait)\n",
    "            \n",
    "    def parse_json(self, data_json):\n",
    "            data_dict = {item['sensor']['id']: {**{subitem['value_type']: subitem['value'] for subitem in item['sensordatavalues']}, \n",
    "                                            **{'sensor_type': item['sensor']['sensor_type']['name'], 'lat': item['location']['latitude'], 'lon': item['location']['longitude']}} \n",
    "                     for item in data_json}\n",
    "            dt = {'P1': float, 'P2': float, 'lat': float, 'lon': float}\n",
    "            return pd.DataFrame(data_dict).T.loc[:, ['P1', 'P2', 'sensor_type', 'lat', 'lon']].reset_index(names='sensor_id').astype(dtype=dt, errors='ignore')\n",
    "            \n",
    "    def stop(self):\n",
    "        self.exit.set()\n",
    "        self.join()"
   ]
  },
  {
   "cell_type": "markdown",
   "id": "b1f72b77-7623-4377-a4ef-6f248583ec26",
   "metadata": {},
   "source": [
    "## Using range selector to slice dataframe and Update bins"
   ]
  },
  {
   "cell_type": "code",
   "execution_count": 5,
   "id": "7a14caed-22e4-432c-bd4a-160d3d37378d",
   "metadata": {},
   "outputs": [],
   "source": [
    "background = gv.tile_sources.OSM\n",
    "# transformer does reverse x and y (not using it)\n",
    "transformer = Transformer.from_crs(\"epsg:3857\", \"epsg:4326\")\n",
    "xy_range = RangeXY(source=background)\n",
    "\n",
    "hv_pipe = Pipe([])\n",
    "data_pipe = DataLoader(hv_pipe=hv_pipe)\n",
    "data_pipe.start()"
   ]
  },
  {
   "cell_type": "code",
   "execution_count": 6,
   "id": "a8ac2317",
   "metadata": {
    "collapsed": false,
    "jupyter": {
     "outputs_hidden": false
    }
   },
   "outputs": [],
   "source": [
    "data_pipe.data"
   ]
  },
  {
   "cell_type": "code",
   "execution_count": 35,
   "id": "6730de2b",
   "metadata": {
    "collapsed": false,
    "jupyter": {
     "outputs_hidden": false
    }
   },
   "outputs": [
    {
     "data": {},
     "metadata": {},
     "output_type": "display_data"
    },
    {
     "data": {
      "application/vnd.holoviews_exec.v0+json": "",
      "text/html": [
       "<div id='8645'>\n",
       "  <div class=\"bk-root\" id=\"d2acc466-e52e-4840-a044-c4bf5f1608fa\" data-root-id=\"8645\"></div>\n",
       "</div>\n",
       "<script type=\"application/javascript\">(function(root) {\n",
       "  function embed_document(root) {\n",
       "    var docs_json = {\"eb5ce8ec-9da7-484d-a291-6d5c41d558d2\":{\"defs\":[{\"extends\":null,\"module\":null,\"name\":\"ReactiveHTML1\",\"overrides\":[],\"properties\":[]},{\"extends\":null,\"module\":null,\"name\":\"FlexBox1\",\"overrides\":[],\"properties\":[{\"default\":\"flex-start\",\"kind\":null,\"name\":\"align_content\"},{\"default\":\"flex-start\",\"kind\":null,\"name\":\"align_items\"},{\"default\":\"row\",\"kind\":null,\"name\":\"flex_direction\"},{\"default\":\"wrap\",\"kind\":null,\"name\":\"flex_wrap\"},{\"default\":\"flex-start\",\"kind\":null,\"name\":\"justify_content\"}]},{\"extends\":null,\"module\":null,\"name\":\"GridStack1\",\"overrides\":[],\"properties\":[{\"default\":\"warn\",\"kind\":null,\"name\":\"mode\"},{\"default\":null,\"kind\":null,\"name\":\"ncols\"},{\"default\":null,\"kind\":null,\"name\":\"nrows\"},{\"default\":true,\"kind\":null,\"name\":\"allow_resize\"},{\"default\":true,\"kind\":null,\"name\":\"allow_drag\"},{\"default\":[],\"kind\":null,\"name\":\"state\"}]},{\"extends\":null,\"module\":null,\"name\":\"click1\",\"overrides\":[],\"properties\":[{\"default\":\"\",\"kind\":null,\"name\":\"terminal_output\"},{\"default\":\"\",\"kind\":null,\"name\":\"debug_name\"},{\"default\":0,\"kind\":null,\"name\":\"clears\"}]},{\"extends\":null,\"module\":null,\"name\":\"NotificationAreaBase1\",\"overrides\":[],\"properties\":[{\"default\":\"bottom-right\",\"kind\":null,\"name\":\"position\"},{\"default\":0,\"kind\":null,\"name\":\"_clear\"}]},{\"extends\":null,\"module\":null,\"name\":\"NotificationArea1\",\"overrides\":[],\"properties\":[{\"default\":[],\"kind\":null,\"name\":\"notifications\"},{\"default\":\"bottom-right\",\"kind\":null,\"name\":\"position\"},{\"default\":0,\"kind\":null,\"name\":\"_clear\"},{\"default\":[{\"background\":\"#ffc107\",\"icon\":{\"className\":\"fas fa-exclamation-triangle\",\"color\":\"white\",\"tagName\":\"i\"},\"type\":\"warning\"},{\"background\":\"#007bff\",\"icon\":{\"className\":\"fas fa-info-circle\",\"color\":\"white\",\"tagName\":\"i\"},\"type\":\"info\"}],\"kind\":null,\"name\":\"types\"}]},{\"extends\":null,\"module\":null,\"name\":\"Notification\",\"overrides\":[],\"properties\":[{\"default\":null,\"kind\":null,\"name\":\"background\"},{\"default\":3000,\"kind\":null,\"name\":\"duration\"},{\"default\":null,\"kind\":null,\"name\":\"icon\"},{\"default\":\"\",\"kind\":null,\"name\":\"message\"},{\"default\":null,\"kind\":null,\"name\":\"notification_type\"},{\"default\":false,\"kind\":null,\"name\":\"_destroyed\"}]},{\"extends\":null,\"module\":null,\"name\":\"TemplateActions1\",\"overrides\":[],\"properties\":[{\"default\":0,\"kind\":null,\"name\":\"open_modal\"},{\"default\":0,\"kind\":null,\"name\":\"close_modal\"}]},{\"extends\":null,\"module\":null,\"name\":\"MaterialTemplateActions1\",\"overrides\":[],\"properties\":[{\"default\":0,\"kind\":null,\"name\":\"open_modal\"},{\"default\":0,\"kind\":null,\"name\":\"close_modal\"}]}],\"roots\":{\"references\":[{\"attributes\":{\"client_comm_id\":\"805751e2edda4d168f513dbaa6dce168\",\"comm_id\":\"a61ee7daf046413593087bcf617c787a\",\"plot_id\":\"8645\"},\"id\":\"8811\",\"type\":\"panel.models.comm_manager.CommManager\"},{\"attributes\":{},\"id\":\"8669\",\"type\":\"LinearScale\"},{\"attributes\":{\"fill_alpha\":{\"value\":0.2},\"fill_color\":{\"value\":\"#30a2da\"},\"hatch_alpha\":{\"value\":0.2},\"hatch_color\":{\"value\":\"#30a2da\"},\"line_alpha\":{\"value\":0.2},\"line_color\":{\"value\":\"#30a2da\"},\"size\":{\"value\":3.872983346207417},\"x\":{\"field\":\"lon\"},\"y\":{\"field\":\"lat\"}},\"id\":\"8744\",\"type\":\"Scatter\"},{\"attributes\":{\"axis\":{\"id\":\"8675\"},\"coordinates\":null,\"dimension\":1,\"grid_line_color\":null,\"group\":null,\"ticker\":null},\"id\":\"8678\",\"type\":\"Grid\"},{\"attributes\":{\"attribution\":\"&copy; <a href=\\\"https://www.openstreetmap.org/copyright\\\">OpenStreetMap</a> contributors\",\"url\":\"https://c.tile.openstreetmap.org/{Z}/{X}/{Y}.png\"},\"id\":\"8718\",\"type\":\"WMTSTileSource\"},{\"attributes\":{},\"id\":\"8754\",\"type\":\"UnionRenderers\"},{\"attributes\":{\"children\":[{\"id\":\"8646\"},{\"id\":\"8662\"},{\"id\":\"8783\"}],\"margin\":[0,0,0,0],\"name\":\"Row46782\"},\"id\":\"8645\",\"type\":\"Row\"},{\"attributes\":{\"aspect_scale\":0.47261882883421236,\"fill_alpha\":{\"value\":0.2},\"fill_color\":{\"field\":\"P1\",\"transform\":{\"id\":\"8726\"}},\"hatch_alpha\":{\"value\":0.2},\"hatch_color\":{\"field\":\"P1\",\"transform\":{\"id\":\"8726\"}},\"line_alpha\":{\"value\":0.2},\"line_color\":{\"field\":\"P1\",\"transform\":{\"id\":\"8726\"}},\"q\":{\"field\":\"q\"},\"r\":{\"field\":\"r\"},\"size\":524727.9251049407},\"id\":\"8733\",\"type\":\"HexTile\"},{\"attributes\":{\"match_aspect\":true,\"overlay\":{\"id\":\"8682\"}},\"id\":\"8656\",\"type\":\"BoxZoomTool\"},{\"attributes\":{\"axis\":{\"id\":\"8671\"},\"coordinates\":null,\"grid_line_color\":null,\"group\":null,\"ticker\":null},\"id\":\"8674\",\"type\":\"Grid\"},{\"attributes\":{},\"id\":\"8740\",\"type\":\"Selection\"},{\"attributes\":{\"end\":19508295.483558092,\"min_interval\":5,\"reset_end\":19508295.483558092,\"reset_start\":-13799386.717715831,\"start\":-13799386.717715831,\"tags\":[[[\"Longitude\",\"Longitude\",null]]]},\"id\":\"8653\",\"type\":\"Range1d\"},{\"attributes\":{\"axis_label\":\"Latitude\",\"coordinates\":null,\"formatter\":{\"id\":\"8695\"},\"group\":null,\"major_label_policy\":{\"id\":\"8705\"},\"ticker\":{\"id\":\"8694\"}},\"id\":\"8675\",\"type\":\"LinearAxis\"},{\"attributes\":{\"dimension\":\"lon\",\"mantissas\":[1,2,5]},\"id\":\"8692\",\"type\":\"MercatorTicker\"},{\"attributes\":{\"zoom_on_axis\":false},\"id\":\"8655\",\"type\":\"WheelZoomTool\"},{\"attributes\":{\"dimension\":\"lat\"},\"id\":\"8695\",\"type\":\"MercatorTickFormatter\"},{\"attributes\":{\"fill_alpha\":{\"value\":0.1},\"fill_color\":{\"value\":\"#30a2da\"},\"hatch_alpha\":{\"value\":0.1},\"hatch_color\":{\"value\":\"#30a2da\"},\"line_alpha\":{\"value\":0.1},\"line_color\":{\"value\":\"#30a2da\"},\"size\":{\"value\":3.872983346207417},\"x\":{\"field\":\"lon\"},\"y\":{\"field\":\"lat\"}},\"id\":\"8743\",\"type\":\"Scatter\"},{\"attributes\":{},\"id\":\"8667\",\"type\":\"LinearScale\"},{\"attributes\":{\"dimension\":\"lon\"},\"id\":\"8693\",\"type\":\"MercatorTickFormatter\"},{\"attributes\":{},\"id\":\"8698\",\"type\":\"AllLabels\"},{\"attributes\":{\"high\":660.48,\"low\":0.53,\"palette\":[\"#ffffcc\",\"#fffeca\",\"#fffdc9\",\"#fffdc7\",\"#fffcc6\",\"#fffcc5\",\"#fffbc3\",\"#fffbc2\",\"#fffac0\",\"#fff9bf\",\"#fff9be\",\"#fff8bc\",\"#fff8bb\",\"#fff7ba\",\"#fff7b8\",\"#fff6b7\",\"#fff5b5\",\"#fff5b4\",\"#fff4b3\",\"#fff4b1\",\"#fff3b0\",\"#fff3af\",\"#fff2ad\",\"#fff2ac\",\"#fff1aa\",\"#fff0a9\",\"#fff0a8\",\"#ffefa6\",\"#ffefa5\",\"#ffeea3\",\"#ffeea2\",\"#ffeda1\",\"#feec9f\",\"#feec9e\",\"#feeb9d\",\"#feeb9b\",\"#feea9a\",\"#fee999\",\"#fee997\",\"#fee896\",\"#fee795\",\"#fee793\",\"#fee692\",\"#fee691\",\"#fee590\",\"#fee48e\",\"#fee48d\",\"#fee38c\",\"#fee28a\",\"#fee289\",\"#fee188\",\"#fee186\",\"#fee085\",\"#fedf84\",\"#fedf82\",\"#fede81\",\"#fedd80\",\"#fedd7e\",\"#fedc7d\",\"#fedb7c\",\"#fedb7a\",\"#feda79\",\"#feda78\",\"#fed976\",\"#fed875\",\"#fed774\",\"#fed673\",\"#fed571\",\"#fed370\",\"#fed26f\",\"#fed16d\",\"#fed06c\",\"#fece6b\",\"#fecd69\",\"#fecc68\",\"#fecb67\",\"#feca65\",\"#fec864\",\"#fec763\",\"#fec661\",\"#fec560\",\"#fec35f\",\"#fec25d\",\"#fec15c\",\"#fec05b\",\"#febf5a\",\"#febd58\",\"#febc57\",\"#febb56\",\"#feba54\",\"#feb853\",\"#feb752\",\"#feb650\",\"#feb54f\",\"#feb34e\",\"#feb24c\",\"#fdb14b\",\"#fdb04b\",\"#fdaf4a\",\"#fdae4a\",\"#fdac49\",\"#fdab49\",\"#fdaa48\",\"#fda948\",\"#fda847\",\"#fda747\",\"#fda546\",\"#fda446\",\"#fda345\",\"#fda245\",\"#fda144\",\"#fda044\",\"#fd9e43\",\"#fd9d43\",\"#fd9c42\",\"#fd9b42\",\"#fd9a41\",\"#fd9941\",\"#fd9840\",\"#fd9640\",\"#fd953f\",\"#fd943f\",\"#fd933e\",\"#fd923e\",\"#fd913d\",\"#fd8f3d\",\"#fd8e3c\",\"#fd8d3c\",\"#fc8c3b\",\"#fc8a3b\",\"#fc883a\",\"#fc863a\",\"#fc8439\",\"#fc8238\",\"#fc8038\",\"#fc7e37\",\"#fc7c37\",\"#fc7a36\",\"#fc7836\",\"#fc7635\",\"#fc7434\",\"#fc7234\",\"#fc7033\",\"#fc6e33\",\"#fc6c32\",\"#fc6a32\",\"#fc6831\",\"#fc6630\",\"#fc6430\",\"#fc622f\",\"#fc602f\",\"#fc5e2e\",\"#fc5c2e\",\"#fc5a2d\",\"#fc582d\",\"#fc562c\",\"#fc542b\",\"#fc522b\",\"#fc502a\",\"#fc4e2a\",\"#fb4c29\",\"#fa4b29\",\"#f94928\",\"#f94828\",\"#f84627\",\"#f74427\",\"#f64327\",\"#f64126\",\"#f53f26\",\"#f43e25\",\"#f33c25\",\"#f23b24\",\"#f23924\",\"#f13724\",\"#f03623\",\"#ef3423\",\"#ee3222\",\"#ee3122\",\"#ed2f21\",\"#ec2d21\",\"#eb2c20\",\"#eb2a20\",\"#ea2920\",\"#e9271f\",\"#e8251f\",\"#e7241e\",\"#e7221e\",\"#e6201d\",\"#e51f1d\",\"#e41d1c\",\"#e31c1c\",\"#e31a1c\",\"#e2191c\",\"#e0181c\",\"#df171c\",\"#de161d\",\"#dd161d\",\"#dc151d\",\"#da141e\",\"#d9131e\",\"#d8121e\",\"#d7121f\",\"#d6111f\",\"#d4101f\",\"#d30f20\",\"#d20e20\",\"#d10d20\",\"#d00d20\",\"#cf0c21\",\"#cd0b21\",\"#cc0a21\",\"#cb0922\",\"#ca0922\",\"#c90822\",\"#c70723\",\"#c60623\",\"#c50523\",\"#c40424\",\"#c30424\",\"#c10324\",\"#c00225\",\"#bf0125\",\"#be0025\",\"#bd0025\",\"#bb0026\",\"#b90026\",\"#b70026\",\"#b50026\",\"#b30026\",\"#b10026\",\"#af0026\",\"#ad0026\",\"#ac0026\",\"#aa0026\",\"#a80026\",\"#a60026\",\"#a40026\",\"#a20026\",\"#a00026\",\"#9e0026\",\"#9c0026\",\"#9a0026\",\"#980026\",\"#960026\",\"#950026\",\"#930026\",\"#910026\",\"#8f0026\",\"#8d0026\",\"#8b0026\",\"#890026\",\"#870026\",\"#850026\",\"#830026\",\"#810026\",\"#800026\"]},\"id\":\"8726\",\"type\":\"LinearColorMapper\"},{\"attributes\":{\"margin\":[5,5,5,5],\"name\":\"HSpacer46787\",\"sizing_mode\":\"stretch_width\"},\"id\":\"8783\",\"type\":\"Spacer\"},{\"attributes\":{},\"id\":\"8728\",\"type\":\"Selection\"},{\"attributes\":{\"data\":{\"P1\":{\"__ndarray__\":\"H+MktMYGPkBdEErlmHJEQMwnNB3aPz5AmpmZmZmZOUCfT4TB7plLQM3MzMzMLBdA+/ogBkSUS0Cd++wCYlMpQHrX6ZpruE5AByfOScqtJkBcj8L1KFwCQJd48we2HTFAThvotIFOHECI+ePbuAsuQCuHFtnO9yVAed755VIFRkCoDXTaQAdIQLy7u7u7u/s/KVyPwvWnTUCSgG9eTTxsQBlCgyE0GCdAMzMzMzOzIkAI0Npe8E5CQGZmZmZm9jBAcT0K16NQN0AAAAAAAAAeQFK4HoXr0SZAc08jLPc0E0B+seQXS34hQA9Q7gDl9mdAzI90f+FTGkAyTiTjRLIjQGdmZmZm5hlAUrgeheulYEApXI/C9UhDQJDC9ShcjwJA8wkatf8CIUBYCA5pGV80QML1KFyPwg5AexSuR+HKZEDNzMzMzMwxQM3MzMzM/DFAA8xZNv+MJUAN5TWU19AYQKRwPQrXo4RA20CnDXTaK0DrUbgehas/QArXo3A96ipAA5020GkDEkBEREREREQOQDCW/GLJB3RA4XoUrkfhNUDy0k1iEEhMQDxMXW5/8GFA3t3d3d1dMkBgLPnFkl8nQBSuR+F6FC5A61G4HoXjPkCkcD0K16MoQBvotIFOmztApHA9CtcjIEAAAAAAAEBHQNijcD0K51VAiYiIiIiIGEB7FK5H4foXQD0K16NwZVtAGi/dJAaBHEC8u7u7u7svQJvEILBy6CNApHA9Ctej5D9I4XoUrsczQNejcD0K1yVA9ihcj8L14D+qjGFRCzENQI/C9ShcDy5AAAAAAAAADEAUrkfhepQyQMkvlvxiuVRAFK5H4XoUM0DD9Shcj8IbQIXrUbgehQNApHA9CtcjFUA9CtejcD0vQAAAAAAAcFtAMzMzMzMzG0BI4XoUrmdSQKRwPQrX40RAUrgehetR9D+uR+F6FK4wQArXo3A9AlJAuR6F61FoPUCF61G4HsVQQI/C9ShcjyNAAAAAAAAA+H8AAAAAAABXQLgehetROChA4XoUrkfhIkA=\",\"dtype\":\"float64\",\"order\":\"little\",\"shape\":[97]},\"q\":[5,4,5,-3,5,-4,4,2,6,3,4,4,-1,7,-7,6,5,11,3,7,8,10,4,-4,7,7,4,5,6,-1,6,-4,-3,8,8,7,7,-4,-4,8,-7,5,6,7,6,0,1,-3,8,-3,7,6,8,11,-2,-4,6,6,-1,10,7,0,9,8,9,7,10,-2,-6,11,-4,12,11,9,10,5,11,0,2,6,2,-5,-5,7,7,6,8,6,0,7,5,1,-4,13,5,6,5],\"r\":[-8,-8,-9,-3,-7,-7,-7,-6,-9,-6,5,-9,-6,-11,5,-10,-6,-6,-7,-12,-9,-5,-6,-3,-2,-13,-5,-10,-11,-7,5,-5,-5,-4,-2,6,-10,-6,3,-3,6,-5,-8,-9,-4,0,-4,-6,-13,-8,-5,0,-7,-9,-6,-4,-1,-7,5,-6,-8,4,-4,-10,-10,-6,-10,-9,5,-10,-1,-8,-12,-9,-9,6,-8,-1,0,-6,-5,4,-3,-3,4,-3,-12,7,-7,-4,-12,-1,2,-11,-4,1,-1]},\"selected\":{\"id\":\"8728\"},\"selection_policy\":{\"id\":\"8752\"}},\"id\":\"8727\",\"type\":\"ColumnDataSource\"},{\"attributes\":{},\"id\":\"8750\",\"type\":\"NoOverlap\"},{\"attributes\":{\"aspect_scale\":0.47261882883421236,\"fill_alpha\":{\"value\":0.8},\"fill_color\":{\"value\":\"pink\"},\"hatch_alpha\":{\"value\":0.8},\"hatch_color\":{\"value\":\"pink\"},\"line_alpha\":{\"value\":0.8},\"line_color\":{\"value\":\"pink\"},\"q\":{\"field\":\"q\"},\"r\":{\"field\":\"r\"},\"size\":524727.9251049407},\"id\":\"8732\",\"type\":\"HexTile\"},{\"attributes\":{\"source\":{\"id\":\"8739\"}},\"id\":\"8746\",\"type\":\"CDSView\"},{\"attributes\":{\"aspect_scale\":0.47261882883421236,\"fill_alpha\":{\"value\":0.75},\"fill_color\":{\"field\":\"P1\",\"transform\":{\"id\":\"8726\"}},\"hatch_alpha\":{\"value\":0.1},\"hatch_color\":{\"field\":\"P1\",\"transform\":{\"id\":\"8726\"}},\"line_alpha\":{\"value\":0.75},\"line_color\":{\"field\":\"P1\",\"transform\":{\"id\":\"8726\"}},\"q\":{\"field\":\"q\"},\"r\":{\"field\":\"r\"},\"size\":524727.9251049407},\"id\":\"8731\",\"type\":\"HexTile\"},{\"attributes\":{\"fill_color\":{\"value\":\"#30a2da\"},\"hatch_color\":{\"value\":\"#30a2da\"},\"line_color\":{\"value\":\"#30a2da\"},\"size\":{\"value\":3.872983346207417},\"x\":{\"field\":\"lon\"},\"y\":{\"field\":\"lat\"}},\"id\":\"8742\",\"type\":\"Scatter\"},{\"attributes\":{\"aspect_scale\":0.47261882883421236,\"fill_alpha\":{\"value\":0.75},\"fill_color\":{\"field\":\"P1\",\"transform\":{\"id\":\"8726\"}},\"hatch_alpha\":{\"value\":0.75},\"hatch_color\":{\"field\":\"P1\",\"transform\":{\"id\":\"8726\"}},\"line_alpha\":{\"value\":0.75},\"line_color\":{\"field\":\"P1\",\"transform\":{\"id\":\"8726\"}},\"q\":{\"field\":\"q\"},\"r\":{\"field\":\"r\"},\"size\":524727.9251049407},\"id\":\"8730\",\"type\":\"HexTile\"},{\"attributes\":{\"bottom_units\":\"screen\",\"coordinates\":null,\"fill_alpha\":0.5,\"fill_color\":\"lightgrey\",\"group\":null,\"left_units\":\"screen\",\"level\":\"overlay\",\"line_alpha\":1.0,\"line_color\":\"black\",\"line_dash\":[4,4],\"line_width\":2,\"right_units\":\"screen\",\"syncable\":false,\"top_units\":\"screen\"},\"id\":\"8682\",\"type\":\"BoxAnnotation\"},{\"attributes\":{},\"id\":\"8752\",\"type\":\"UnionRenderers\"},{\"attributes\":{\"coordinates\":null,\"data_source\":{\"id\":\"8739\"},\"glyph\":{\"id\":\"8742\"},\"group\":null,\"hover_glyph\":null,\"muted_glyph\":{\"id\":\"8744\"},\"nonselection_glyph\":{\"id\":\"8743\"},\"selection_glyph\":{\"id\":\"8747\"},\"view\":{\"id\":\"8746\"}},\"id\":\"8745\",\"type\":\"GlyphRenderer\"},{\"attributes\":{\"tools\":[{\"id\":\"8655\"},{\"id\":\"8656\"},{\"id\":\"8657\"},{\"id\":\"8680\"},{\"id\":\"8681\"}]},\"id\":\"8683\",\"type\":\"Toolbar\"},{\"attributes\":{},\"id\":\"8681\",\"type\":\"ResetTool\"},{\"attributes\":{\"axis_label\":\"Longitude\",\"coordinates\":null,\"formatter\":{\"id\":\"8693\"},\"group\":null,\"major_label_policy\":{\"id\":\"8698\"},\"ticker\":{\"id\":\"8692\"}},\"id\":\"8671\",\"type\":\"LinearAxis\"},{\"attributes\":{\"margin\":[5,5,5,5],\"name\":\"HSpacer46786\",\"sizing_mode\":\"stretch_width\"},\"id\":\"8646\",\"type\":\"Spacer\"},{\"attributes\":{\"source\":{\"id\":\"8727\"}},\"id\":\"8735\",\"type\":\"CDSView\"},{\"attributes\":{\"angle\":{\"value\":0.0},\"fill_alpha\":{\"value\":1.0},\"fill_color\":{\"value\":\"#30a2da\"},\"hatch_alpha\":{\"value\":1.0},\"hatch_color\":{\"value\":\"#30a2da\"},\"hatch_scale\":{\"value\":12.0},\"hatch_weight\":{\"value\":1.0},\"line_alpha\":{\"value\":1.0},\"line_cap\":{\"value\":\"butt\"},\"line_color\":{\"value\":\"#30a2da\"},\"line_dash\":{\"value\":[]},\"line_dash_offset\":{\"value\":0},\"line_join\":{\"value\":\"bevel\"},\"line_width\":{\"value\":1},\"marker\":{\"value\":\"circle\"},\"size\":{\"value\":3.872983346207417},\"x\":{\"field\":\"lon\"},\"y\":{\"field\":\"lat\"}},\"id\":\"8747\",\"type\":\"Scatter\"},{\"attributes\":{\"bar_line_color\":\"black\",\"color_mapper\":{\"id\":\"8726\"},\"coordinates\":null,\"group\":null,\"label_standoff\":8,\"location\":[0,0],\"major_label_policy\":{\"id\":\"8750\"},\"major_tick_line_color\":\"black\",\"ticker\":{\"id\":\"8736\"}},\"id\":\"8737\",\"type\":\"ColorBar\"},{\"attributes\":{\"dimension\":\"lat\",\"mantissas\":[1,2,5]},\"id\":\"8694\",\"type\":\"MercatorTicker\"},{\"attributes\":{\"aspect_scale\":0.47261882883421236,\"fill_alpha\":{\"value\":0.75},\"fill_color\":{\"field\":\"P1\",\"transform\":{\"id\":\"8726\"}},\"hatch_alpha\":{\"value\":0.75},\"hatch_color\":{\"field\":\"P1\",\"transform\":{\"id\":\"8726\"}},\"hatch_scale\":{\"value\":12.0},\"hatch_weight\":{\"value\":1.0},\"line_alpha\":{\"value\":0.75},\"line_cap\":{\"value\":\"butt\"},\"line_color\":{\"field\":\"P1\",\"transform\":{\"id\":\"8726\"}},\"line_dash\":{\"value\":[]},\"line_dash_offset\":{\"value\":0},\"line_join\":{\"value\":\"bevel\"},\"line_width\":{\"value\":1},\"q\":{\"field\":\"q\"},\"r\":{\"field\":\"r\"},\"scale\":{\"value\":1},\"size\":524727.9251049407},\"id\":\"8738\",\"type\":\"HexTile\"},{\"attributes\":{},\"id\":\"8736\",\"type\":\"BasicTicker\"},{\"attributes\":{\"below\":[{\"id\":\"8671\"}],\"center\":[{\"id\":\"8674\"},{\"id\":\"8678\"}],\"frame_height\":600,\"frame_width\":1000,\"js_event_callbacks\":{\"rangesupdate\":[{\"id\":\"8725\"}]},\"left\":[{\"id\":\"8675\"}],\"margin\":[5,5,5,5],\"match_aspect\":true,\"min_border_bottom\":10,\"min_border_left\":10,\"min_border_right\":10,\"min_border_top\":10,\"renderers\":[{\"id\":\"8721\"},{\"id\":\"8734\"},{\"id\":\"8745\"}],\"right\":[{\"id\":\"8737\"}],\"sizing_mode\":\"fixed\",\"subscribed_events\":[\"rangesupdate\"],\"title\":{\"id\":\"8663\"},\"toolbar\":{\"id\":\"8683\"},\"width\":1000,\"x_range\":{\"id\":\"8653\"},\"x_scale\":{\"id\":\"8667\"},\"y_range\":{\"id\":\"8654\"},\"y_scale\":{\"id\":\"8669\"}},\"id\":\"8662\",\"subtype\":\"Figure\",\"type\":\"Plot\"},{\"attributes\":{\"coordinates\":null,\"group\":null,\"level\":\"underlay\",\"tile_source\":{\"id\":\"8718\"}},\"id\":\"8721\",\"type\":\"TileRenderer\"},{\"attributes\":{\"coordinates\":null,\"group\":null,\"text_color\":\"black\",\"text_font_size\":\"12pt\"},\"id\":\"8663\",\"type\":\"Title\"},{\"attributes\":{\"coordinates\":null,\"data_source\":{\"id\":\"8727\"},\"glyph\":{\"id\":\"8730\"},\"group\":null,\"hover_glyph\":{\"id\":\"8732\"},\"muted_glyph\":{\"id\":\"8733\"},\"nonselection_glyph\":{\"id\":\"8731\"},\"selection_glyph\":{\"id\":\"8738\"},\"view\":{\"id\":\"8735\"}},\"id\":\"8734\",\"type\":\"GlyphRenderer\"},{\"attributes\":{\"callback\":null,\"renderers\":[{\"id\":\"8734\"}],\"tags\":[\"hv_created\"],\"tooltips\":[[\"P1\",\"@{P1}\"]]},\"id\":\"8657\",\"type\":\"HoverTool\"},{\"attributes\":{\"code\":\"\\n    const plot = this.origin\\n    const plots = plot.x_range.plots.concat(plot.y_range.plots)\\n    const updated = [plot]\\n    for (const p of plots) {\\n      if (updated.indexOf(p) >= 0 || p.tags.indexOf('ranges-updating') >= 0)\\n        continue\\n      p.tags.push('ranges-updating')\\n      const event = new this.constructor(p.x_range.start, p.x_range.end, p.y_range.start, p.y_range.end)\\n      p.trigger_event(event)\\n      p.tags = p.tags.filter(x => x !== 'ranges-updating')\\n      updated.push(p)\\n    }\\n    \"},\"id\":\"8725\",\"type\":\"CustomJS\"},{\"attributes\":{},\"id\":\"8680\",\"type\":\"PanTool\"},{\"attributes\":{},\"id\":\"8705\",\"type\":\"AllLabels\"},{\"attributes\":{\"end\":12528087.047939483,\"min_interval\":5,\"reset_end\":12528087.047939483,\"reset_start\":-7456522.27282487,\"start\":-7456522.27282487,\"tags\":[[[\"Latitude\",\"Latitude\",null]]]},\"id\":\"8654\",\"type\":\"Range1d\"},{\"attributes\":{\"data\":{\"lat\":{\"__ndarray__\":\"\",\"dtype\":\"float64\",\"order\":\"little\",\"shape\":[0]},\"lon\":{\"__ndarray__\":\"\",\"dtype\":\"float64\",\"order\":\"little\",\"shape\":[0]}},\"selected\":{\"id\":\"8740\"},\"selection_policy\":{\"id\":\"8754\"}},\"id\":\"8739\",\"type\":\"ColumnDataSource\"}],\"root_ids\":[\"8645\",\"8811\"]},\"title\":\"Bokeh Application\",\"version\":\"2.4.3\"}};\n",
       "    var render_items = [{\"docid\":\"eb5ce8ec-9da7-484d-a291-6d5c41d558d2\",\"root_ids\":[\"8645\"],\"roots\":{\"8645\":\"d2acc466-e52e-4840-a044-c4bf5f1608fa\"}}];\n",
       "    root.Bokeh.embed.embed_items_notebook(docs_json, render_items);\n",
       "    for (const render_item of render_items) {\n",
       "      for (const root_id of render_item.root_ids) {\n",
       "\tconst id_el = document.getElementById(root_id)\n",
       "\tif (id_el.children.length && (id_el.children[0].className === 'bk-root')) {\n",
       "\t  const root_el = id_el.children[0]\n",
       "\t  root_el.id = root_el.id + '-rendered'\n",
       "\t}\n",
       "      }\n",
       "    }\n",
       "  }\n",
       "  if (root.Bokeh !== undefined && root.Bokeh.Panel !== undefined) {\n",
       "    embed_document(root);\n",
       "  } else {\n",
       "    var attempts = 0;\n",
       "    var timer = setInterval(function(root) {\n",
       "      if (root.Bokeh !== undefined && root.Bokeh.Panel !== undefined) {\n",
       "        clearInterval(timer);\n",
       "        embed_document(root);\n",
       "      } else if (document.readyState == \"complete\") {\n",
       "        attempts++;\n",
       "        if (attempts > 200) {\n",
       "          clearInterval(timer);\n",
       "          console.log(\"Bokeh: ERROR: Unable to run BokehJS code because BokehJS library is missing\");\n",
       "        }\n",
       "      }\n",
       "    }, 25, root)\n",
       "  }\n",
       "})(window);</script>"
      ],
      "text/plain": [
       ":DynamicMap   []\n",
       "   :Overlay\n",
       "      .WMTS.I     :WMTS   [Longitude,Latitude]\n",
       "      .HexTiles.I :HexTiles   [lon,lat]   (P1)\n",
       "      .Points.I   :Points   [lon,lat]"
      ]
     },
     "execution_count": 35,
     "metadata": {
      "application/vnd.holoviews_exec.v0+json": {
       "id": "8645"
      }
     },
     "output_type": "execute_result"
    }
   ],
   "source": [
    "\n",
    "# transformer does reverse x and y (not using it)\n",
    "#transformer = Transformer.from_crs(\"epsg:3857\", \"epsg:4326\")\n",
    "\n",
    "background = gv.tile_sources.OSM\n",
    "xy_range = RangeXY(source=background)\n",
    "\n",
    "\n",
    "def hexmap(x_range, y_range):\n",
    "    \n",
    "    df1 = data_pipe.data\n",
    "    df_sel = df1\n",
    "    if x_range:\n",
    "        xy_0 = hv.util.transform.easting_northing_to_lon_lat(x_range[0], y_range[0])\n",
    "        xy_1 = hv.util.transform.easting_northing_to_lon_lat(x_range[1], y_range[1])\n",
    "\n",
    "        mask1 = (df1['lon'] >=xy_0[0]) & (df1['lon']<=xy_1[0])\n",
    "        mask2 = (df1['lat'] >=xy_0[1]) & (df1['lat']<=xy_1[1])\n",
    "\n",
    "        df_sel = df1.loc[mask1 & mask2, :]\n",
    "\n",
    "    bins = df_sel.hvplot.hexbin(x='lon',\n",
    "                                y='lat',\n",
    "                                C='P1',\n",
    "                                alpha=0.75,\n",
    "                                hover_color='pink',\n",
    "                                hover_alpha=0.8,\n",
    "                                gridsize=20,\n",
    "                                min_count=1,\n",
    "                                scale=1,\n",
    "                                geo=True,\n",
    "                                cmap='YlOrRd'\n",
    "                               ).opts(aggregator=np.mean)\n",
    "\n",
    "    return bins\n",
    "\n",
    "def points(x_range, y_range, x_thresh=3):\n",
    "    \n",
    "    df1 = data_pipe.data\n",
    "    df_sel = pd.DataFrame(dict(lon=[], lat=[]))\n",
    "    if x_range:\n",
    "        \n",
    "        xy_0 = hv.util.transform.easting_northing_to_lon_lat(x_range[0], y_range[0])\n",
    "        xy_1 = hv.util.transform.easting_northing_to_lon_lat(x_range[1], y_range[1])\n",
    "        if (xy_1[0] - xy_0[0] <= x_thresh):\n",
    "            # plot only points if certain zoom level is reached\n",
    "            mask1 = (df1['lon'] >=xy_0[0]) & (df1['lon']<=xy_1[0])\n",
    "            mask2 = (df1['lat'] >=xy_0[1]) & (df1['lat']<=xy_1[1])\n",
    "\n",
    "            df_sel = df1.loc[mask1 & mask2, :]\n",
    "        else:\n",
    "            df_sel = pd.DataFrame(dict(lon=[], lat=[]))\n",
    "\n",
    "    p = df_sel.hvplot.points(x='lon',\n",
    "                            y='lat',\n",
    "                            hover=[],\n",
    "                            size=15,\n",
    "                            geo=True)\n",
    "    return p\n",
    "\n",
    "#xy_range = RangeXY(source=background)\n",
    "\n",
    "dyn = hv.DynamicMap(hexmap, streams=[xy_range])\n",
    "dynp = hv.DynamicMap(points, streams=[xy_range])\n",
    "\n",
    "plot_all = (background*dyn*dynp)\n",
    "plot_all.opts(gv.opts(global_extent=False,\n",
    "                      width=1000,\n",
    "                      height=600,\n",
    "                      responsive=False\n",
    "                     ))"
   ]
  },
  {
   "cell_type": "code",
   "execution_count": null,
   "id": "8bec9d83-409c-4676-aeca-dacdb2697024",
   "metadata": {},
   "outputs": [],
   "source": []
  }
 ],
 "metadata": {
  "kernelspec": {
   "display_name": "Python 3 (ipykernel)",
   "language": "python",
   "name": "python3"
  },
  "language_info": {
   "codemirror_mode": {
    "name": "ipython",
    "version": 3
   },
   "file_extension": ".py",
   "mimetype": "text/x-python",
   "name": "python",
   "nbconvert_exporter": "python",
   "pygments_lexer": "ipython3",
   "version": "3.10.8"
  }
 },
 "nbformat": 4,
 "nbformat_minor": 5
}
